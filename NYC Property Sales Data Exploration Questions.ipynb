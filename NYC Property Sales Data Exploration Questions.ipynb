{
 "cells": [
  {
   "cell_type": "markdown",
   "metadata": {},
   "source": [
    "# NYC Property Sales "
   ]
  },
  {
   "cell_type": "markdown",
   "metadata": {},
   "source": [
    "## Importing Necessary Libraries"
   ]
  },
  {
   "cell_type": "code",
   "execution_count": 83,
   "metadata": {},
   "outputs": [],
   "source": [
    "import pandas as pd\n",
    "import numpy as np\n",
    "\n",
    "import matplotlib.pyplot as plt\n",
    "import seaborn as sns\n",
    "\n",
    "import warnings\n",
    "warnings.filterwarnings('ignore')"
   ]
  },
  {
   "cell_type": "code",
   "execution_count": 84,
   "metadata": {},
   "outputs": [
    {
     "data": {
      "text/html": [
       "<div>\n",
       "<style scoped>\n",
       "    .dataframe tbody tr th:only-of-type {\n",
       "        vertical-align: middle;\n",
       "    }\n",
       "\n",
       "    .dataframe tbody tr th {\n",
       "        vertical-align: top;\n",
       "    }\n",
       "\n",
       "    .dataframe thead th {\n",
       "        text-align: right;\n",
       "    }\n",
       "</style>\n",
       "<table border=\"1\" class=\"dataframe\">\n",
       "  <thead>\n",
       "    <tr style=\"text-align: right;\">\n",
       "      <th></th>\n",
       "      <th>Unnamed: 0</th>\n",
       "      <th>BOROUGH</th>\n",
       "      <th>NEIGHBORHOOD</th>\n",
       "      <th>BUILDING CLASS CATEGORY</th>\n",
       "      <th>TAX CLASS AT PRESENT</th>\n",
       "      <th>BLOCK</th>\n",
       "      <th>LOT</th>\n",
       "      <th>EASE-MENT</th>\n",
       "      <th>BUILDING CLASS AT PRESENT</th>\n",
       "      <th>ADDRESS</th>\n",
       "      <th>...</th>\n",
       "      <th>RESIDENTIAL UNITS</th>\n",
       "      <th>COMMERCIAL UNITS</th>\n",
       "      <th>TOTAL UNITS</th>\n",
       "      <th>LAND SQUARE FEET</th>\n",
       "      <th>GROSS SQUARE FEET</th>\n",
       "      <th>YEAR BUILT</th>\n",
       "      <th>TAX CLASS AT TIME OF SALE</th>\n",
       "      <th>BUILDING CLASS AT TIME OF SALE</th>\n",
       "      <th>SALE PRICE</th>\n",
       "      <th>SALE DATE</th>\n",
       "    </tr>\n",
       "  </thead>\n",
       "  <tbody>\n",
       "    <tr>\n",
       "      <th>0</th>\n",
       "      <td>4</td>\n",
       "      <td>1</td>\n",
       "      <td>ALPHABET CITY</td>\n",
       "      <td>07 RENTALS - WALKUP APARTMENTS</td>\n",
       "      <td>2A</td>\n",
       "      <td>392</td>\n",
       "      <td>6</td>\n",
       "      <td></td>\n",
       "      <td>C2</td>\n",
       "      <td>153 AVENUE B</td>\n",
       "      <td>...</td>\n",
       "      <td>5</td>\n",
       "      <td>0</td>\n",
       "      <td>5</td>\n",
       "      <td>1633</td>\n",
       "      <td>6440</td>\n",
       "      <td>1900</td>\n",
       "      <td>2</td>\n",
       "      <td>C2</td>\n",
       "      <td>6625000</td>\n",
       "      <td>2017-07-19 00:00:00</td>\n",
       "    </tr>\n",
       "    <tr>\n",
       "      <th>1</th>\n",
       "      <td>5</td>\n",
       "      <td>1</td>\n",
       "      <td>ALPHABET CITY</td>\n",
       "      <td>07 RENTALS - WALKUP APARTMENTS</td>\n",
       "      <td>2</td>\n",
       "      <td>399</td>\n",
       "      <td>26</td>\n",
       "      <td></td>\n",
       "      <td>C7</td>\n",
       "      <td>234 EAST 4TH   STREET</td>\n",
       "      <td>...</td>\n",
       "      <td>28</td>\n",
       "      <td>3</td>\n",
       "      <td>31</td>\n",
       "      <td>4616</td>\n",
       "      <td>18690</td>\n",
       "      <td>1900</td>\n",
       "      <td>2</td>\n",
       "      <td>C7</td>\n",
       "      <td>-</td>\n",
       "      <td>2016-12-14 00:00:00</td>\n",
       "    </tr>\n",
       "    <tr>\n",
       "      <th>2</th>\n",
       "      <td>6</td>\n",
       "      <td>1</td>\n",
       "      <td>ALPHABET CITY</td>\n",
       "      <td>07 RENTALS - WALKUP APARTMENTS</td>\n",
       "      <td>2</td>\n",
       "      <td>399</td>\n",
       "      <td>39</td>\n",
       "      <td></td>\n",
       "      <td>C7</td>\n",
       "      <td>197 EAST 3RD   STREET</td>\n",
       "      <td>...</td>\n",
       "      <td>16</td>\n",
       "      <td>1</td>\n",
       "      <td>17</td>\n",
       "      <td>2212</td>\n",
       "      <td>7803</td>\n",
       "      <td>1900</td>\n",
       "      <td>2</td>\n",
       "      <td>C7</td>\n",
       "      <td>-</td>\n",
       "      <td>2016-12-09 00:00:00</td>\n",
       "    </tr>\n",
       "    <tr>\n",
       "      <th>3</th>\n",
       "      <td>7</td>\n",
       "      <td>1</td>\n",
       "      <td>ALPHABET CITY</td>\n",
       "      <td>07 RENTALS - WALKUP APARTMENTS</td>\n",
       "      <td>2B</td>\n",
       "      <td>402</td>\n",
       "      <td>21</td>\n",
       "      <td></td>\n",
       "      <td>C4</td>\n",
       "      <td>154 EAST 7TH STREET</td>\n",
       "      <td>...</td>\n",
       "      <td>10</td>\n",
       "      <td>0</td>\n",
       "      <td>10</td>\n",
       "      <td>2272</td>\n",
       "      <td>6794</td>\n",
       "      <td>1913</td>\n",
       "      <td>2</td>\n",
       "      <td>C4</td>\n",
       "      <td>3936272</td>\n",
       "      <td>2016-09-23 00:00:00</td>\n",
       "    </tr>\n",
       "    <tr>\n",
       "      <th>4</th>\n",
       "      <td>8</td>\n",
       "      <td>1</td>\n",
       "      <td>ALPHABET CITY</td>\n",
       "      <td>07 RENTALS - WALKUP APARTMENTS</td>\n",
       "      <td>2A</td>\n",
       "      <td>404</td>\n",
       "      <td>55</td>\n",
       "      <td></td>\n",
       "      <td>C2</td>\n",
       "      <td>301 EAST 10TH   STREET</td>\n",
       "      <td>...</td>\n",
       "      <td>6</td>\n",
       "      <td>0</td>\n",
       "      <td>6</td>\n",
       "      <td>2369</td>\n",
       "      <td>4615</td>\n",
       "      <td>1900</td>\n",
       "      <td>2</td>\n",
       "      <td>C2</td>\n",
       "      <td>8000000</td>\n",
       "      <td>2016-11-17 00:00:00</td>\n",
       "    </tr>\n",
       "  </tbody>\n",
       "</table>\n",
       "<p>5 rows × 22 columns</p>\n",
       "</div>"
      ],
      "text/plain": [
       "   Unnamed: 0  BOROUGH   NEIGHBORHOOD  \\\n",
       "0           4        1  ALPHABET CITY   \n",
       "1           5        1  ALPHABET CITY   \n",
       "2           6        1  ALPHABET CITY   \n",
       "3           7        1  ALPHABET CITY   \n",
       "4           8        1  ALPHABET CITY   \n",
       "\n",
       "                       BUILDING CLASS CATEGORY TAX CLASS AT PRESENT  BLOCK  \\\n",
       "0  07 RENTALS - WALKUP APARTMENTS                                2A    392   \n",
       "1  07 RENTALS - WALKUP APARTMENTS                                 2    399   \n",
       "2  07 RENTALS - WALKUP APARTMENTS                                 2    399   \n",
       "3  07 RENTALS - WALKUP APARTMENTS                                2B    402   \n",
       "4  07 RENTALS - WALKUP APARTMENTS                                2A    404   \n",
       "\n",
       "   LOT EASE-MENT BUILDING CLASS AT PRESENT                 ADDRESS  ...  \\\n",
       "0    6                                  C2            153 AVENUE B  ...   \n",
       "1   26                                  C7   234 EAST 4TH   STREET  ...   \n",
       "2   39                                  C7   197 EAST 3RD   STREET  ...   \n",
       "3   21                                  C4     154 EAST 7TH STREET  ...   \n",
       "4   55                                  C2  301 EAST 10TH   STREET  ...   \n",
       "\n",
       "  RESIDENTIAL UNITS  COMMERCIAL UNITS  TOTAL UNITS  LAND SQUARE FEET  \\\n",
       "0                 5                 0            5              1633   \n",
       "1                28                 3           31              4616   \n",
       "2                16                 1           17              2212   \n",
       "3                10                 0           10              2272   \n",
       "4                 6                 0            6              2369   \n",
       "\n",
       "   GROSS SQUARE FEET YEAR BUILT TAX CLASS AT TIME OF SALE  \\\n",
       "0               6440       1900                         2   \n",
       "1              18690       1900                         2   \n",
       "2               7803       1900                         2   \n",
       "3               6794       1913                         2   \n",
       "4               4615       1900                         2   \n",
       "\n",
       "   BUILDING CLASS AT TIME OF SALE  SALE PRICE            SALE DATE  \n",
       "0                              C2     6625000  2017-07-19 00:00:00  \n",
       "1                              C7         -    2016-12-14 00:00:00  \n",
       "2                              C7         -    2016-12-09 00:00:00  \n",
       "3                              C4     3936272  2016-09-23 00:00:00  \n",
       "4                              C2     8000000  2016-11-17 00:00:00  \n",
       "\n",
       "[5 rows x 22 columns]"
      ]
     },
     "execution_count": 84,
     "metadata": {},
     "output_type": "execute_result"
    }
   ],
   "source": [
    "df = pd.read_csv(r'C:\\Users\\Newton\\Desktop\\DATA\\nyc-rolling-sales.csv')\n",
    "df.head()"
   ]
  },
  {
   "cell_type": "markdown",
   "metadata": {},
   "source": [
    "## Cleaning the data"
   ]
  },
  {
   "cell_type": "markdown",
   "metadata": {},
   "source": [
    "### Droping rows of Nan"
   ]
  },
  {
   "cell_type": "code",
   "execution_count": 85,
   "metadata": {
    "scrolled": true
   },
   "outputs": [
    {
     "data": {
      "text/html": [
       "<div>\n",
       "<style scoped>\n",
       "    .dataframe tbody tr th:only-of-type {\n",
       "        vertical-align: middle;\n",
       "    }\n",
       "\n",
       "    .dataframe tbody tr th {\n",
       "        vertical-align: top;\n",
       "    }\n",
       "\n",
       "    .dataframe thead th {\n",
       "        text-align: right;\n",
       "    }\n",
       "</style>\n",
       "<table border=\"1\" class=\"dataframe\">\n",
       "  <thead>\n",
       "    <tr style=\"text-align: right;\">\n",
       "      <th></th>\n",
       "      <th>Unnamed: 0</th>\n",
       "      <th>BOROUGH</th>\n",
       "      <th>NEIGHBORHOOD</th>\n",
       "      <th>BUILDING CLASS CATEGORY</th>\n",
       "      <th>TAX CLASS AT PRESENT</th>\n",
       "      <th>BLOCK</th>\n",
       "      <th>LOT</th>\n",
       "      <th>EASE-MENT</th>\n",
       "      <th>BUILDING CLASS AT PRESENT</th>\n",
       "      <th>ADDRESS</th>\n",
       "      <th>...</th>\n",
       "      <th>RESIDENTIAL UNITS</th>\n",
       "      <th>COMMERCIAL UNITS</th>\n",
       "      <th>TOTAL UNITS</th>\n",
       "      <th>LAND SQUARE FEET</th>\n",
       "      <th>GROSS SQUARE FEET</th>\n",
       "      <th>YEAR BUILT</th>\n",
       "      <th>TAX CLASS AT TIME OF SALE</th>\n",
       "      <th>BUILDING CLASS AT TIME OF SALE</th>\n",
       "      <th>SALE PRICE</th>\n",
       "      <th>SALE DATE</th>\n",
       "    </tr>\n",
       "  </thead>\n",
       "  <tbody>\n",
       "  </tbody>\n",
       "</table>\n",
       "<p>0 rows × 22 columns</p>\n",
       "</div>"
      ],
      "text/plain": [
       "Empty DataFrame\n",
       "Columns: [Unnamed: 0, BOROUGH, NEIGHBORHOOD, BUILDING CLASS CATEGORY, TAX CLASS AT PRESENT, BLOCK, LOT, EASE-MENT, BUILDING CLASS AT PRESENT, ADDRESS, APARTMENT NUMBER, ZIP CODE, RESIDENTIAL UNITS, COMMERCIAL UNITS, TOTAL UNITS, LAND SQUARE FEET, GROSS SQUARE FEET, YEAR BUILT, TAX CLASS AT TIME OF SALE, BUILDING CLASS AT TIME OF SALE, SALE PRICE, SALE DATE]\n",
       "Index: []\n",
       "\n",
       "[0 rows x 22 columns]"
      ]
     },
     "metadata": {},
     "output_type": "display_data"
    }
   ],
   "source": [
    "nan_df = df[df.isna().any(axis=1)]\n",
    "display(nan_df.head())"
   ]
  },
  {
   "cell_type": "markdown",
   "metadata": {},
   "source": [
    "###### Dosent seem to have any NaN values in the dataframe."
   ]
  },
  {
   "cell_type": "markdown",
   "metadata": {},
   "source": [
    "###### Looking at the data types"
   ]
  },
  {
   "cell_type": "code",
   "execution_count": 86,
   "metadata": {},
   "outputs": [
    {
     "data": {
      "text/plain": [
       "Unnamed: 0                         int64\n",
       "BOROUGH                            int64\n",
       "NEIGHBORHOOD                      object\n",
       "BUILDING CLASS CATEGORY           object\n",
       "TAX CLASS AT PRESENT              object\n",
       "BLOCK                              int64\n",
       "LOT                                int64\n",
       "EASE-MENT                         object\n",
       "BUILDING CLASS AT PRESENT         object\n",
       "ADDRESS                           object\n",
       "APARTMENT NUMBER                  object\n",
       "ZIP CODE                           int64\n",
       "RESIDENTIAL UNITS                  int64\n",
       "COMMERCIAL UNITS                   int64\n",
       "TOTAL UNITS                        int64\n",
       "LAND SQUARE FEET                  object\n",
       "GROSS SQUARE FEET                 object\n",
       "YEAR BUILT                         int64\n",
       "TAX CLASS AT TIME OF SALE          int64\n",
       "BUILDING CLASS AT TIME OF SALE    object\n",
       "SALE PRICE                        object\n",
       "SALE DATE                         object\n",
       "dtype: object"
      ]
     },
     "execution_count": 86,
     "metadata": {},
     "output_type": "execute_result"
    }
   ],
   "source": [
    "df.dtypes"
   ]
  },
  {
   "cell_type": "markdown",
   "metadata": {},
   "source": [
    "###### Dropping data not needed for analysis."
   ]
  },
  {
   "cell_type": "code",
   "execution_count": 87,
   "metadata": {},
   "outputs": [],
   "source": [
    "df.drop(columns=['Unnamed: 0','EASE-MENT','APARTMENT NUMBER','LAND SQUARE FEET','GROSS SQUARE FEET','BLOCK','LOT','ZIP CODE'], inplace=True)"
   ]
  },
  {
   "cell_type": "markdown",
   "metadata": {},
   "source": [
    "###### Dropping duplicate values"
   ]
  },
  {
   "cell_type": "code",
   "execution_count": 88,
   "metadata": {},
   "outputs": [
    {
     "data": {
      "text/plain": [
       "2242"
      ]
     },
     "execution_count": 88,
     "metadata": {},
     "output_type": "execute_result"
    }
   ],
   "source": [
    "sum(df.duplicated(df.columns))"
   ]
  },
  {
   "cell_type": "code",
   "execution_count": 89,
   "metadata": {},
   "outputs": [
    {
     "data": {
      "text/plain": [
       "0"
      ]
     },
     "execution_count": 89,
     "metadata": {},
     "output_type": "execute_result"
    }
   ],
   "source": [
    "df = df.drop_duplicates(df.columns, keep='last')\n",
    "sum(df.duplicated(df.columns))"
   ]
  },
  {
   "cell_type": "markdown",
   "metadata": {},
   "source": [
    "## Augementing data with proper values"
   ]
  },
  {
   "cell_type": "markdown",
   "metadata": {},
   "source": [
    "#### Boroughs"
   ]
  },
  {
   "cell_type": "code",
   "execution_count": 90,
   "metadata": {},
   "outputs": [],
   "source": [
    "df['BOROUGH'] = df['BOROUGH'].apply(str)"
   ]
  },
  {
   "cell_type": "code",
   "execution_count": 91,
   "metadata": {},
   "outputs": [],
   "source": [
    "df['BOROUGH'] = df['BOROUGH'].replace(['1','2','3','4','5'],['Manhattan','Bronx','Brooklyn','Queens', 'Staten Island'])"
   ]
  },
  {
   "cell_type": "markdown",
   "metadata": {},
   "source": [
    "#### Sales Price"
   ]
  },
  {
   "cell_type": "code",
   "execution_count": 92,
   "metadata": {},
   "outputs": [
    {
     "data": {
      "text/plain": [
       "0         6625000\n",
       "1             -  \n",
       "2             -  \n",
       "3         3936272\n",
       "4         8000000\n",
       "           ...   \n",
       "84543      450000\n",
       "84544      550000\n",
       "84545      460000\n",
       "84546    11693337\n",
       "84547       69300\n",
       "Name: SALE PRICE, Length: 82306, dtype: object"
      ]
     },
     "execution_count": 92,
     "metadata": {},
     "output_type": "execute_result"
    }
   ],
   "source": [
    "df['SALE PRICE']"
   ]
  },
  {
   "cell_type": "code",
   "execution_count": 93,
   "metadata": {},
   "outputs": [
    {
     "data": {
      "text/plain": [
       "0         6625000\n",
       "3         3936272\n",
       "4         8000000\n",
       "6         3192840\n",
       "9        16232000\n",
       "           ...   \n",
       "84543      450000\n",
       "84544      550000\n",
       "84545      460000\n",
       "84546    11693337\n",
       "84547       69300\n",
       "Name: SALE PRICE, Length: 69216, dtype: object"
      ]
     },
     "execution_count": 93,
     "metadata": {},
     "output_type": "execute_result"
    }
   ],
   "source": [
    "df['SALE PRICE'] = df['SALE PRICE'].str.lstrip()\n",
    "df['SALE PRICE'] = df['SALE PRICE'].str.rstrip()\n",
    "df= df[df['SALE PRICE'] != '-']\n",
    "df['SALE PRICE']"
   ]
  },
  {
   "cell_type": "code",
   "execution_count": 94,
   "metadata": {},
   "outputs": [
    {
     "data": {
      "text/plain": [
       "array(['07 RENTALS - WALKUP APARTMENTS             ',\n",
       "       '08 RENTALS - ELEVATOR APARTMENTS           ',\n",
       "       '09 COOPS - WALKUP APARTMENTS               ',\n",
       "       '10 COOPS - ELEVATOR APARTMENTS             ',\n",
       "       '11A CONDO-RENTALS                           ',\n",
       "       '12 CONDOS - WALKUP APARTMENTS              ',\n",
       "       '13 CONDOS - ELEVATOR APARTMENTS            ',\n",
       "       '14 RENTALS - 4-10 UNIT                     ',\n",
       "       '15 CONDOS - 2-10 UNIT RESIDENTIAL          ',\n",
       "       '16 CONDOS - 2-10 UNIT WITH COMMERCIAL UNIT ',\n",
       "       '17 CONDO COOPS                             ',\n",
       "       '22 STORE BUILDINGS                         ',\n",
       "       '46 CONDO STORE BUILDINGS                   ',\n",
       "       '01 ONE FAMILY DWELLINGS                    ',\n",
       "       '02 TWO FAMILY DWELLINGS                    ',\n",
       "       '03 THREE FAMILY DWELLINGS                  ',\n",
       "       '04 TAX CLASS 1 CONDOS                      ',\n",
       "       '21 OFFICE BUILDINGS                        ',\n",
       "       '23 LOFT BUILDINGS                          ',\n",
       "       '25 LUXURY HOTELS                           ',\n",
       "       '26 OTHER HOTELS                            ',\n",
       "       '29 COMMERCIAL GARAGES                      ',\n",
       "       '37 RELIGIOUS FACILITIES                    ',\n",
       "       '38 ASYLUMS AND HOMES                       ',\n",
       "       '43 CONDO OFFICE BUILDINGS                  ',\n",
       "       '44 CONDO PARKING                           ',\n",
       "       '28 COMMERCIAL CONDOS                       ',\n",
       "       '47 CONDO NON-BUSINESS STORAGE              ',\n",
       "       '31 COMMERCIAL VACANT LAND                  ',\n",
       "       '41 TAX CLASS 4 - OTHER                     ',\n",
       "       '30 WAREHOUSES                              ',\n",
       "       '34 THEATRES                                ',\n",
       "       '27 FACTORIES                               ',\n",
       "       '36 OUTDOOR RECREATIONAL FACILITIES         ',\n",
       "       '40 SELECTED GOVERNMENTAL FACILITIES        ',\n",
       "       '42 CONDO CULTURAL/MEDICAL/EDUCATIONAL/ETC  ',\n",
       "       '32 HOSPITAL AND HEALTH FACILITIES          ',\n",
       "       '45 CONDO HOTELS                            ',\n",
       "       '49 CONDO WAREHOUSES/FACTORY/INDUS          ',\n",
       "       '33 EDUCATIONAL FACILITIES                  ',\n",
       "       '05 TAX CLASS 1 VACANT LAND                 ',\n",
       "       '06 TAX CLASS 1 - OTHER                     ',\n",
       "       '35 INDOOR PUBLIC AND CULTURAL FACILITIES   ',\n",
       "       '18 TAX CLASS 3 - UNTILITY PROPERTIES       ',\n",
       "       '48 CONDO TERRACES/GARDENS/CABANAS          ',\n",
       "       '11 SPECIAL CONDO BILLING LOTS              ',\n",
       "       '39 TRANSPORTATION FACILITIES               '], dtype=object)"
      ]
     },
     "execution_count": 94,
     "metadata": {},
     "output_type": "execute_result"
    }
   ],
   "source": [
    "df['BUILDING CLASS CATEGORY'].unique()"
   ]
  },
  {
   "cell_type": "markdown",
   "metadata": {},
   "source": [
    "Getting rid of numeric values infront of the class categories"
   ]
  },
  {
   "cell_type": "code",
   "execution_count": 95,
   "metadata": {},
   "outputs": [
    {
     "data": {
      "text/plain": [
       "0        RENTALS - WALKUP APARTMENTS             \n",
       "3        RENTALS - WALKUP APARTMENTS             \n",
       "4        RENTALS - WALKUP APARTMENTS             \n",
       "6        RENTALS - WALKUP APARTMENTS             \n",
       "9        RENTALS - ELEVATOR APARTMENTS           \n",
       "                           ...                   \n",
       "84543    TWO FAMILY DWELLINGS                    \n",
       "84544    TWO FAMILY DWELLINGS                    \n",
       "84545    TWO FAMILY DWELLINGS                    \n",
       "84546    STORE BUILDINGS                         \n",
       "84547    INDOOR PUBLIC AND CULTURAL FACILITIES   \n",
       "Name: BUILDING CLASS, Length: 69216, dtype: object"
      ]
     },
     "execution_count": 95,
     "metadata": {},
     "output_type": "execute_result"
    }
   ],
   "source": [
    "df['BUILDING CLASS'] = df['BUILDING CLASS CATEGORY'].str[3:]\n",
    "del df['BUILDING CLASS CATEGORY']\n",
    "df['BUILDING CLASS']"
   ]
  },
  {
   "cell_type": "code",
   "execution_count": 96,
   "metadata": {},
   "outputs": [
    {
     "data": {
      "text/plain": [
       "0    RENTALS - WALKUP APARTMENTS             \n",
       "3    RENTALS - WALKUP APARTMENTS             \n",
       "4    RENTALS - WALKUP APARTMENTS             \n",
       "6    RENTALS - WALKUP APARTMENTS             \n",
       "9    RENTALS - ELEVATOR APARTMENTS           \n",
       "Name: BUILDING CLASS, dtype: object"
      ]
     },
     "execution_count": 96,
     "metadata": {},
     "output_type": "execute_result"
    }
   ],
   "source": [
    "df['BUILDING CLASS'] = df['BUILDING CLASS'].str.lstrip()\n",
    "df['BUILDING CLASS'].head()"
   ]
  },
  {
   "cell_type": "markdown",
   "metadata": {},
   "source": [
    "## Data Exploration"
   ]
  },
  {
   "cell_type": "markdown",
   "metadata": {},
   "source": [
    "## Which Borough had the most units sold?"
   ]
  },
  {
   "cell_type": "code",
   "execution_count": 97,
   "metadata": {},
   "outputs": [
    {
     "data": {
      "text/plain": [
       "BOROUGH\n",
       "Bronx            24513\n",
       "Brooklyn         52070\n",
       "Manhattan        27833\n",
       "Queens           30556\n",
       "Staten Island     8042\n",
       "Name: TOTAL UNITS, dtype: int32"
      ]
     },
     "execution_count": 97,
     "metadata": {},
     "output_type": "execute_result"
    }
   ],
   "source": [
    "Borough = df.groupby('BOROUGH').sum()\n",
    "totalu = Borough['TOTAL UNITS'].astype(int)\n",
    "totalu"
   ]
  },
  {
   "cell_type": "code",
   "execution_count": 98,
   "metadata": {},
   "outputs": [
    {
     "data": {
      "image/png": "[encoded data removed]",
      "text/plain": [
       "<Figure size 504x360 with 1 Axes>"
      ]
     },
     "metadata": {},
     "output_type": "display_data"
    }
   ],
   "source": [
    "Borough = Borough = [BOROUGH for BOROUGH, df in df.groupby('BOROUGH')]\n",
    "\n",
    "plt.style.use('fivethirtyeight')\n",
    "plt.figure(figsize=(7,5))\n",
    "plt.bar(Borough,totalu)\n",
    "plt.grid(False)\n",
    "\n",
    "plt.title('Borough total units(Residential/Commerical)')\n",
    "plt.ylabel('Total Units Sold')\n",
    "plt.show()"
   ]
  },
  {
   "cell_type": "code",
   "execution_count": 99,
   "metadata": {},
   "outputs": [
    {
     "data": {
      "image/png": "[encoded data removed]",
      "text/plain": [
       "<Figure size 504x360 with 1 Axes>"
      ]
     },
     "metadata": {},
     "output_type": "display_data"
    }
   ],
   "source": [
    "Borough = Borough = [BOROUGH for BOROUGH, df in df.groupby('BOROUGH')]\n",
    "\n",
    "plt.style.use('fivethirtyeight')\n",
    "plt.figure(figsize=(7,5))\n",
    "plt.title(\"'Borough total units(Residential/Commerical)'\")\n",
    "plt.pie(totalu, labels=Borough, autopct='%1.1f%%', shadow=True)\n",
    "plt.show()"
   ]
  },
  {
   "cell_type": "markdown",
   "metadata": {},
   "source": [
    "## Which neighborhoods had the most units sold in each Borough?"
   ]
  },
  {
   "cell_type": "code",
   "execution_count": 100,
   "metadata": {},
   "outputs": [],
   "source": [
    "def borough(x):\n",
    "  return df.groupby('BOROUGH').get_group(x).groupby('NEIGHBORHOOD').sum()['TOTAL UNITS'].sort_values(ascending=False).head(1)"
   ]
  },
  {
   "cell_type": "code",
   "execution_count": 101,
   "metadata": {},
   "outputs": [
    {
     "name": "stdout",
     "output_type": "stream",
     "text": [
      "Manhattan\n",
      "NEIGHBORHOOD\n",
      "HARLEM-CENTRAL    6058\n",
      "Name: TOTAL UNITS, dtype: int64\n",
      "  \n",
      "Bronx\n",
      "NEIGHBORHOOD\n",
      "BRONXDALE    2830\n",
      "Name: TOTAL UNITS, dtype: int64\n",
      "  \n",
      "Brooklyn\n",
      "NEIGHBORHOOD\n",
      "BEDFORD STUYVESANT    3874\n",
      "Name: TOTAL UNITS, dtype: int64\n",
      "  \n",
      "Queens\n",
      "NEIGHBORHOOD\n",
      "FLUSHING-NORTH    2835\n",
      "Name: TOTAL UNITS, dtype: int64\n",
      "  \n",
      "Staten Island\n",
      "NEIGHBORHOOD\n",
      "NEW SPRINGVILLE    680\n",
      "Name: TOTAL UNITS, dtype: int64\n",
      "  \n"
     ]
    }
   ],
   "source": [
    "nyc = ['Manhattan','Bronx','Brooklyn','Queens', 'Staten Island']\n",
    "\n",
    "for x in nyc: \n",
    "  print(x),print(borough(x)),print('  ')"
   ]
  },
  {
   "cell_type": "markdown",
   "metadata": {},
   "source": [
    "## What was the total sales during 12 months in the entire city?"
   ]
  },
  {
   "cell_type": "markdown",
   "metadata": {},
   "source": [
    "Convert into numeric and then datetime to filter out the month"
   ]
  },
  {
   "cell_type": "code",
   "execution_count": 102,
   "metadata": {},
   "outputs": [],
   "source": [
    "df['SALE PRICE'] = pd.to_numeric(df['SALE PRICE'])"
   ]
  },
  {
   "cell_type": "code",
   "execution_count": 103,
   "metadata": {},
   "outputs": [],
   "source": [
    "df['SALE DATE'] = pd.to_datetime(df['SALE DATE'])\n",
    "df['Month'] = df['SALE DATE'].dt.month"
   ]
  },
  {
   "cell_type": "code",
   "execution_count": 104,
   "metadata": {},
   "outputs": [],
   "source": [
    "m = df.groupby(['Month'])\n",
    "x = m['SALE PRICE'].sum()"
   ]
  },
  {
   "cell_type": "code",
   "execution_count": 105,
   "metadata": {},
   "outputs": [
    {
     "data": {
      "image/png": "[encoded data removed]",
      "text/plain": [
       "<Figure size 504x360 with 1 Axes>"
      ]
     },
     "metadata": {},
     "output_type": "display_data"
    }
   ],
   "source": [
    "from matplotlib.pyplot import figure\n",
    "plt.figure(figsize=(7, 5))\n",
    "\n",
    "months = range(1,13)\n",
    "\n",
    "plt.plot(months,x, color='red', marker='o', linestyle='dashed', linewidth=2, markersize=7)\n",
    "plt.xticks(months)\n",
    "plt.grid(True)\n",
    "\n",
    "plt.xlabel(\"Months\")\n",
    "plt.ylabel(\"Total Sales(USD)\")\n",
    "plt.title(\"Total Sales by Month in NYC\")\n",
    "\n",
    "plt.show()"
   ]
  },
  {
   "cell_type": "markdown",
   "metadata": {},
   "source": [
    "## What are the top five building classes?"
   ]
  },
  {
   "cell_type": "code",
   "execution_count": 106,
   "metadata": {},
   "outputs": [
    {
     "data": {
      "text/plain": [
       "BUILDING CLASS\n",
       "RENTALS - WALKUP APARTMENTS                 29584\n",
       "TWO FAMILY DWELLINGS                        26709\n",
       "RENTALS - ELEVATOR APARTMENTS               23133\n",
       "ONE FAMILY DWELLINGS                        14741\n",
       "THREE FAMILY DWELLINGS                      10914\n",
       "Name: TOTAL UNITS, dtype: int64"
      ]
     },
     "execution_count": 106,
     "metadata": {},
     "output_type": "execute_result"
    }
   ],
   "source": [
    "build_group = df.groupby('BUILDING CLASS').sum()\n",
    "build_ordered = build_group['TOTAL UNITS'].sort_values(ascending=False).head(5)\n",
    "build_ordered "
   ]
  },
  {
   "cell_type": "code",
   "execution_count": 107,
   "metadata": {},
   "outputs": [
    {
     "data": {
      "image/png": "[encoded data removed]",
      "text/plain": [
       "<Figure size 432x288 with 1 Axes>"
      ]
     },
     "metadata": {},
     "output_type": "display_data"
    }
   ],
   "source": [
    "plt.style.use('fivethirtyeight')\n",
    "plt.figure(figsize=(6,4))\n",
    "\n",
    "build_ordered.sort_values(ascending=True).plot(kind = 'barh',width = 0.8)\n",
    "\n",
    "plt.title('Top 5 types of Building Classes in NYC')\n",
    "plt.show()"
   ]
  },
  {
   "cell_type": "markdown",
   "metadata": {},
   "source": [
    "## What is the average age of the buildings?"
   ]
  },
  {
   "cell_type": "code",
   "execution_count": 108,
   "metadata": {},
   "outputs": [
    {
     "data": {
      "text/plain": [
       "0       5238\n",
       "1920    4953\n",
       "1930    4198\n",
       "1925    3622\n",
       "1910    3055\n",
       "        ... \n",
       "1883       1\n",
       "1829       1\n",
       "1891       1\n",
       "1855       1\n",
       "1111       1\n",
       "Name: YEAR BUILT, Length: 155, dtype: int64"
      ]
     },
     "execution_count": 108,
     "metadata": {},
     "output_type": "execute_result"
    }
   ],
   "source": [
    "df['YEAR BUILT'].value_counts()"
   ]
  },
  {
   "cell_type": "code",
   "execution_count": 109,
   "metadata": {},
   "outputs": [
    {
     "data": {
      "image/png": "[encoded data removed]",
      "text/plain": [
       "<Figure size 576x360 with 1 Axes>"
      ]
     },
     "metadata": {},
     "output_type": "display_data"
    }
   ],
   "source": [
    "fig, ax = plt.subplots(figsize=(8,5)) \n",
    "sns.boxplot(x = 'YEAR BUILT', data=df, ax=ax)\n",
    "plt.show()"
   ]
  },
  {
   "cell_type": "markdown",
   "metadata": {},
   "source": [
    "###### Need to get rid of outliers!"
   ]
  },
  {
   "cell_type": "code",
   "execution_count": 110,
   "metadata": {},
   "outputs": [],
   "source": [
    "df = df[df['YEAR BUILT'] >= 1750]"
   ]
  },
  {
   "cell_type": "code",
   "execution_count": 111,
   "metadata": {},
   "outputs": [
    {
     "data": {
      "text/plain": [
       "count    63977.000000\n",
       "mean      1949.306313\n",
       "std         34.391373\n",
       "min       1800.000000\n",
       "25%       1925.000000\n",
       "50%       1941.000000\n",
       "75%       1970.000000\n",
       "max       2017.000000\n",
       "Name: YEAR BUILT, dtype: float64"
      ]
     },
     "execution_count": 111,
     "metadata": {},
     "output_type": "execute_result"
    }
   ],
   "source": [
    "df['YEAR BUILT'].describe()"
   ]
  },
  {
   "cell_type": "code",
   "execution_count": 112,
   "metadata": {},
   "outputs": [
    {
     "data": {
      "image/png": "[encoded data removed]",
      "text/plain": [
       "<Figure size 576x360 with 1 Axes>"
      ]
     },
     "metadata": {},
     "output_type": "display_data"
    }
   ],
   "source": [
    "fig, ax = plt.subplots(figsize=(8,5)) \n",
    "sns.boxplot(x = 'YEAR BUILT', data=df, ax=ax)\n",
    "plt.show()"
   ]
  },
  {
   "cell_type": "markdown",
   "metadata": {},
   "source": [
    "##### Better!!!"
   ]
  },
  {
   "cell_type": "code",
   "execution_count": 113,
   "metadata": {},
   "outputs": [],
   "source": [
    "df['Building Age'] = 2017 - df['YEAR BUILT']"
   ]
  },
  {
   "cell_type": "code",
   "execution_count": 114,
   "metadata": {},
   "outputs": [
    {
     "data": {
      "text/plain": [
       "67.69368679369148"
      ]
     },
     "execution_count": 114,
     "metadata": {},
     "output_type": "execute_result"
    }
   ],
   "source": [
    "df['Building Age'].mean()"
   ]
  },
  {
   "cell_type": "markdown",
   "metadata": {},
   "source": [
    "### The average age of the buildings is 67.69 years old."
   ]
  }
 ],
 "metadata": {
  "kernelspec": {
   "display_name": "Python 3",
   "language": "python",
   "name": "python3"
  },
  "language_info": {
   "codemirror_mode": {
    "name": "ipython",
    "version": 3
   },
   "file_extension": ".py",
   "mimetype": "text/x-python",
   "name": "python",
   "nbconvert_exporter": "python",
   "pygments_lexer": "ipython3",
   "version": "3.8.3"
  }
 },
 "nbformat": 4,
 "nbformat_minor": 4
}
