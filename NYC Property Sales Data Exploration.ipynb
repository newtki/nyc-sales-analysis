{
 "cells": [
  {
   "cell_type": "code",
   "execution_count": 1,
   "metadata": {},
   "outputs": [],
   "source": [
    "import pandas as pd\n",
    "import numpy as np\n",
    "import matplotlib.pyplot as plt\n",
    "import seaborn as sns"
   ]
  },
  {
   "cell_type": "code",
   "execution_count": 118,
   "metadata": {},
   "outputs": [],
   "source": [
    "df = pd.read_csv(r'C:\\Users\\Newton\\Desktop\\DATA\\nyc-rolling-sales.csv')"
   ]
  },
  {
   "cell_type": "code",
   "execution_count": 119,
   "metadata": {},
   "outputs": [
    {
     "name": "stdout",
     "output_type": "stream",
     "text": [
      "Unnamed: 0                        0\n",
      "BOROUGH                           0\n",
      "NEIGHBORHOOD                      0\n",
      "BUILDING CLASS CATEGORY           0\n",
      "TAX CLASS AT PRESENT              0\n",
      "BLOCK                             0\n",
      "LOT                               0\n",
      "EASE-MENT                         0\n",
      "BUILDING CLASS AT PRESENT         0\n",
      "ADDRESS                           0\n",
      "APARTMENT NUMBER                  0\n",
      "ZIP CODE                          0\n",
      "RESIDENTIAL UNITS                 0\n",
      "COMMERCIAL UNITS                  0\n",
      "TOTAL UNITS                       0\n",
      "LAND SQUARE FEET                  0\n",
      "GROSS SQUARE FEET                 0\n",
      "YEAR BUILT                        0\n",
      "TAX CLASS AT TIME OF SALE         0\n",
      "BUILDING CLASS AT TIME OF SALE    0\n",
      "SALE PRICE                        0\n",
      "SALE DATE                         0\n",
      "dtype: int64\n"
     ]
    }
   ],
   "source": [
    "print(df.isnull().sum())"
   ]
  },
  {
   "cell_type": "code",
   "execution_count": 120,
   "metadata": {},
   "outputs": [
    {
     "data": {
      "text/plain": [
       "Unnamed: 0                         int64\n",
       "BOROUGH                            int64\n",
       "NEIGHBORHOOD                      object\n",
       "BUILDING CLASS CATEGORY           object\n",
       "TAX CLASS AT PRESENT              object\n",
       "BLOCK                              int64\n",
       "LOT                                int64\n",
       "EASE-MENT                         object\n",
       "BUILDING CLASS AT PRESENT         object\n",
       "ADDRESS                           object\n",
       "APARTMENT NUMBER                  object\n",
       "ZIP CODE                           int64\n",
       "RESIDENTIAL UNITS                  int64\n",
       "COMMERCIAL UNITS                   int64\n",
       "TOTAL UNITS                        int64\n",
       "LAND SQUARE FEET                  object\n",
       "GROSS SQUARE FEET                 object\n",
       "YEAR BUILT                         int64\n",
       "TAX CLASS AT TIME OF SALE          int64\n",
       "BUILDING CLASS AT TIME OF SALE    object\n",
       "SALE PRICE                        object\n",
       "SALE DATE                         object\n",
       "dtype: object"
      ]
     },
     "execution_count": 120,
     "metadata": {},
     "output_type": "execute_result"
    }
   ],
   "source": [
    "df.dtypes"
   ]
  },
  {
   "cell_type": "code",
   "execution_count": 121,
   "metadata": {},
   "outputs": [],
   "source": [
    "df.drop(columns=['Unnamed: 0','EASE-MENT','APARTMENT NUMBER','LAND SQUARE FEET','GROSS SQUARE FEET','BLOCK','LOT','ZIP CODE'], inplace=True)"
   ]
  },
  {
   "cell_type": "code",
   "execution_count": 122,
   "metadata": {},
   "outputs": [
    {
     "data": {
      "text/plain": [
       "2242"
      ]
     },
     "execution_count": 122,
     "metadata": {},
     "output_type": "execute_result"
    }
   ],
   "source": [
    "sum(df.duplicated(df.columns))"
   ]
  },
  {
   "cell_type": "code",
   "execution_count": 123,
   "metadata": {},
   "outputs": [
    {
     "data": {
      "text/plain": [
       "0"
      ]
     },
     "execution_count": 123,
     "metadata": {},
     "output_type": "execute_result"
    }
   ],
   "source": [
    "df = df.drop_duplicates(df.columns, keep='last')\n",
    "sum(df.duplicated(df.columns))"
   ]
  },
  {
   "cell_type": "markdown",
   "metadata": {},
   "source": [
    "# Which Borough had the most total unit sales?"
   ]
  },
  {
   "cell_type": "code",
   "execution_count": 124,
   "metadata": {},
   "outputs": [],
   "source": [
    "df['BOROUGH'] = df['BOROUGH'].apply(str)"
   ]
  },
  {
   "cell_type": "code",
   "execution_count": 125,
   "metadata": {},
   "outputs": [],
   "source": [
    "df['BOROUGH'] = df['BOROUGH'].replace(['1','2','3','4','5'],[\"Manhattan\",'Bronx','Brooklyn',\"Queens\", 'Staten Island'])"
   ]
  },
  {
   "cell_type": "code",
   "execution_count": 126,
   "metadata": {},
   "outputs": [
    {
     "data": {
      "text/plain": [
       "BOROUGH\n",
       "Bronx            24513\n",
       "Brooklyn         52070\n",
       "Manhattan        46387\n",
       "Queens           49934\n",
       "Staten Island    10845\n",
       "Name: TOTAL UNITS, dtype: int32"
      ]
     },
     "execution_count": 126,
     "metadata": {},
     "output_type": "execute_result"
    }
   ],
   "source": [
    "Borough = df.groupby('BOROUGH').sum()\n",
    "totalu = Borough['TOTAL UNITS'].astype(int)\n",
    "totalu"
   ]
  },
  {
   "cell_type": "code",
   "execution_count": 127,
   "metadata": {},
   "outputs": [
    {
     "data": {
      "image/png": "[encoded data removed]",
      "text/plain": [
       "<Figure size 504x360 with 1 Axes>"
      ]
     },
     "metadata": {},
     "output_type": "display_data"
    }
   ],
   "source": [
    "Borough = Borough = [BOROUGH for BOROUGH, df in df.groupby('BOROUGH')]\n",
    "\n",
    "plt.figure(figsize=(7,5))\n",
    "plt.bar(Borough,totalu)\n",
    "\n",
    "plt.title('Borough total units(Residential/Commerical)')\n",
    "plt.ylabel('Total Units Sold')\n",
    "plt.show()"
   ]
  },
  {
   "cell_type": "code",
   "execution_count": 128,
   "metadata": {},
   "outputs": [
    {
     "data": {
      "image/png": "[encoded data removed]",
      "text/plain": [
       "<Figure size 432x288 with 1 Axes>"
      ]
     },
     "metadata": {},
     "output_type": "display_data"
    }
   ],
   "source": [
    "Borough = Borough = [BOROUGH for BOROUGH, df in df.groupby('BOROUGH')]\n",
    "\n",
    "plt.title(\"'Borough total units(Residential/Commerical)'\")\n",
    "plt.pie(totalu, labels=Borough, autopct='%1.1f%%', shadow=True)\n",
    "plt.show()"
   ]
  },
  {
   "cell_type": "markdown",
   "metadata": {},
   "source": [
    "# Which Borough neighborhood had the most units sold?"
   ]
  },
  {
   "cell_type": "code",
   "execution_count": 162,
   "metadata": {},
   "outputs": [
    {
     "data": {
      "text/plain": [
       "BOROUGH    NEIGHBORHOOD             \n",
       "Manhattan  HARLEM-CENTRAL               6967\n",
       "Queens     FLUSHING-NORTH               4452\n",
       "Brooklyn   BEDFORD STUYVESANT           3874\n",
       "Queens     GLEN OAKS                    3806\n",
       "Brooklyn   CROWN HEIGHTS                3580\n",
       "Queens     ASTORIA                      3310\n",
       "Manhattan  UPPER EAST SIDE (59-79)      3046\n",
       "           HARLEM-EAST                  2922\n",
       "Queens     JAMAICA                      2896\n",
       "Brooklyn   BOROUGH PARK                 2855\n",
       "Manhattan  KIPS BAY                     2833\n",
       "Bronx      BRONXDALE                    2830\n",
       "Manhattan  MIDTOWN WEST                 2503\n",
       "Brooklyn   EAST NEW YORK                2292\n",
       "           BUSHWICK                     2240\n",
       "Bronx      MELROSE/CONCOURSE            2232\n",
       "Manhattan  UPPER EAST SIDE (79-96)      2217\n",
       "Bronx      SOUNDVIEW                    2114\n",
       "Queens     ELMHURST                     2102\n",
       "           JACKSON HEIGHTS              1921\n",
       "Manhattan  FASHION                      1845\n",
       "Brooklyn   SUNSET PARK                  1819\n",
       "           SHEEPSHEAD BAY               1813\n",
       "Queens     REGO PARK                    1807\n",
       "Manhattan  SOUTHBRIDGE                  1732\n",
       "Brooklyn   FLATBUSH-CENTRAL             1729\n",
       "Manhattan  FINANCIAL                    1702\n",
       "           CHELSEA                      1628\n",
       "Queens     BAYSIDE                      1514\n",
       "Brooklyn   FLATBUSH-EAST                1503\n",
       "Manhattan  UPPER WEST SIDE (59-79)      1456\n",
       "Bronx      HIGHBRIDGE/MORRIS HEIGHTS    1451\n",
       "Brooklyn   BENSONHURST                  1434\n",
       "Manhattan  WASHINGTON HEIGHTS LOWER     1408\n",
       "           UPPER WEST SIDE (96-116)     1389\n",
       "Brooklyn   CANARSIE                     1375\n",
       "           GRAVESEND                    1362\n",
       "Bronx      MORRISANIA/LONGWOOD          1353\n",
       "Queens     RICHMOND HILL                1348\n",
       "Brooklyn   BAY RIDGE                    1327\n",
       "Queens     CORONA                       1323\n",
       "Manhattan  GREENWICH VILLAGE-WEST       1321\n",
       "           MIDTOWN EAST                 1313\n",
       "           UPPER WEST SIDE (79-96)      1296\n",
       "Queens     RIDGEWOOD                    1286\n",
       "           FOREST HILLS                 1280\n",
       "           EAST ELMHURST                1229\n",
       "Brooklyn   PARK SLOPE                   1214\n",
       "Queens     OZONE PARK                   1197\n",
       "Brooklyn   FORT GREENE                  1162\n",
       "Name: TOTAL UNITS, dtype: int64"
      ]
     },
     "execution_count": 162,
     "metadata": {},
     "output_type": "execute_result"
    }
   ],
   "source": [
    "filt = df.groupby(['BOROUGH','NEIGHBORHOOD']).sum().sort_values(by ='TOTAL UNITS', axis = 0, ascending=False)\n",
    "filt['TOTAL UNITS'].head(50)"
   ]
  },
  {
   "cell_type": "code",
   "execution_count": 14,
   "metadata": {},
   "outputs": [
    {
     "data": {
      "text/plain": [
       "NEIGHBORHOOD\n",
       "GREAT KILLS    932\n",
       "Name: TOTAL UNITS, dtype: int64"
      ]
     },
     "execution_count": 14,
     "metadata": {},
     "output_type": "execute_result"
    }
   ],
   "source": [
    "Staten_Island = df.groupby('BOROUGH').get_group('Staten Island').groupby('NEIGHBORHOOD').sum()\n",
    "Staten_Island['TOTAL UNITS'].sort_values(ascending=False).head(1)"
   ]
  },
  {
   "cell_type": "markdown",
   "metadata": {},
   "source": [
    "# What was the total sales during 12 months in the entire city?"
   ]
  },
  {
   "cell_type": "code",
   "execution_count": 15,
   "metadata": {},
   "outputs": [
    {
     "data": {
      "text/html": [
       "<div>\n",
       "<style scoped>\n",
       "    .dataframe tbody tr th:only-of-type {\n",
       "        vertical-align: middle;\n",
       "    }\n",
       "\n",
       "    .dataframe tbody tr th {\n",
       "        vertical-align: top;\n",
       "    }\n",
       "\n",
       "    .dataframe thead th {\n",
       "        text-align: right;\n",
       "    }\n",
       "</style>\n",
       "<table border=\"1\" class=\"dataframe\">\n",
       "  <thead>\n",
       "    <tr style=\"text-align: right;\">\n",
       "      <th></th>\n",
       "      <th>BOROUGH</th>\n",
       "      <th>NEIGHBORHOOD</th>\n",
       "      <th>BUILDING CLASS CATEGORY</th>\n",
       "      <th>TAX CLASS AT PRESENT</th>\n",
       "      <th>BUILDING CLASS AT PRESENT</th>\n",
       "      <th>ADDRESS</th>\n",
       "      <th>RESIDENTIAL UNITS</th>\n",
       "      <th>COMMERCIAL UNITS</th>\n",
       "      <th>TOTAL UNITS</th>\n",
       "      <th>YEAR BUILT</th>\n",
       "      <th>TAX CLASS AT TIME OF SALE</th>\n",
       "      <th>BUILDING CLASS AT TIME OF SALE</th>\n",
       "      <th>SALE PRICE</th>\n",
       "      <th>SALE DATE</th>\n",
       "    </tr>\n",
       "  </thead>\n",
       "  <tbody>\n",
       "    <tr>\n",
       "      <th>0</th>\n",
       "      <td>Manhattan</td>\n",
       "      <td>ALPHABET CITY</td>\n",
       "      <td>07 RENTALS - WALKUP APARTMENTS</td>\n",
       "      <td>2A</td>\n",
       "      <td>C2</td>\n",
       "      <td>153 AVENUE B</td>\n",
       "      <td>5</td>\n",
       "      <td>0</td>\n",
       "      <td>5</td>\n",
       "      <td>1900</td>\n",
       "      <td>2</td>\n",
       "      <td>C2</td>\n",
       "      <td>6625000</td>\n",
       "      <td>2017-07-19 00:00:00</td>\n",
       "    </tr>\n",
       "    <tr>\n",
       "      <th>3</th>\n",
       "      <td>Manhattan</td>\n",
       "      <td>ALPHABET CITY</td>\n",
       "      <td>07 RENTALS - WALKUP APARTMENTS</td>\n",
       "      <td>2B</td>\n",
       "      <td>C4</td>\n",
       "      <td>154 EAST 7TH STREET</td>\n",
       "      <td>10</td>\n",
       "      <td>0</td>\n",
       "      <td>10</td>\n",
       "      <td>1913</td>\n",
       "      <td>2</td>\n",
       "      <td>C4</td>\n",
       "      <td>3936272</td>\n",
       "      <td>2016-09-23 00:00:00</td>\n",
       "    </tr>\n",
       "    <tr>\n",
       "      <th>4</th>\n",
       "      <td>Manhattan</td>\n",
       "      <td>ALPHABET CITY</td>\n",
       "      <td>07 RENTALS - WALKUP APARTMENTS</td>\n",
       "      <td>2A</td>\n",
       "      <td>C2</td>\n",
       "      <td>301 EAST 10TH   STREET</td>\n",
       "      <td>6</td>\n",
       "      <td>0</td>\n",
       "      <td>6</td>\n",
       "      <td>1900</td>\n",
       "      <td>2</td>\n",
       "      <td>C2</td>\n",
       "      <td>8000000</td>\n",
       "      <td>2016-11-17 00:00:00</td>\n",
       "    </tr>\n",
       "    <tr>\n",
       "      <th>6</th>\n",
       "      <td>Manhattan</td>\n",
       "      <td>ALPHABET CITY</td>\n",
       "      <td>07 RENTALS - WALKUP APARTMENTS</td>\n",
       "      <td>2B</td>\n",
       "      <td>C4</td>\n",
       "      <td>210 AVENUE B</td>\n",
       "      <td>8</td>\n",
       "      <td>0</td>\n",
       "      <td>8</td>\n",
       "      <td>1920</td>\n",
       "      <td>2</td>\n",
       "      <td>C4</td>\n",
       "      <td>3192840</td>\n",
       "      <td>2016-09-23 00:00:00</td>\n",
       "    </tr>\n",
       "    <tr>\n",
       "      <th>9</th>\n",
       "      <td>Manhattan</td>\n",
       "      <td>ALPHABET CITY</td>\n",
       "      <td>08 RENTALS - ELEVATOR APARTMENTS</td>\n",
       "      <td>2</td>\n",
       "      <td>D9</td>\n",
       "      <td>629 EAST 5TH STREET</td>\n",
       "      <td>24</td>\n",
       "      <td>0</td>\n",
       "      <td>24</td>\n",
       "      <td>1920</td>\n",
       "      <td>2</td>\n",
       "      <td>D9</td>\n",
       "      <td>16232000</td>\n",
       "      <td>2016-11-07 00:00:00</td>\n",
       "    </tr>\n",
       "  </tbody>\n",
       "</table>\n",
       "</div>"
      ],
      "text/plain": [
       "     BOROUGH   NEIGHBORHOOD                      BUILDING CLASS CATEGORY  \\\n",
       "0  Manhattan  ALPHABET CITY  07 RENTALS - WALKUP APARTMENTS                \n",
       "3  Manhattan  ALPHABET CITY  07 RENTALS - WALKUP APARTMENTS                \n",
       "4  Manhattan  ALPHABET CITY  07 RENTALS - WALKUP APARTMENTS                \n",
       "6  Manhattan  ALPHABET CITY  07 RENTALS - WALKUP APARTMENTS                \n",
       "9  Manhattan  ALPHABET CITY  08 RENTALS - ELEVATOR APARTMENTS              \n",
       "\n",
       "  TAX CLASS AT PRESENT BUILDING CLASS AT PRESENT                 ADDRESS  \\\n",
       "0                   2A                        C2            153 AVENUE B   \n",
       "3                   2B                        C4     154 EAST 7TH STREET   \n",
       "4                   2A                        C2  301 EAST 10TH   STREET   \n",
       "6                   2B                        C4            210 AVENUE B   \n",
       "9                    2                        D9     629 EAST 5TH STREET   \n",
       "\n",
       "   RESIDENTIAL UNITS  COMMERCIAL UNITS  TOTAL UNITS  YEAR BUILT  \\\n",
       "0                  5                 0            5        1900   \n",
       "3                 10                 0           10        1913   \n",
       "4                  6                 0            6        1900   \n",
       "6                  8                 0            8        1920   \n",
       "9                 24                 0           24        1920   \n",
       "\n",
       "   TAX CLASS AT TIME OF SALE BUILDING CLASS AT TIME OF SALE  SALE PRICE  \\\n",
       "0                          2                             C2     6625000   \n",
       "3                          2                             C4     3936272   \n",
       "4                          2                             C2     8000000   \n",
       "6                          2                             C4     3192840   \n",
       "9                          2                             D9    16232000   \n",
       "\n",
       "             SALE DATE  \n",
       "0  2017-07-19 00:00:00  \n",
       "3  2016-09-23 00:00:00  \n",
       "4  2016-11-17 00:00:00  \n",
       "6  2016-09-23 00:00:00  \n",
       "9  2016-11-07 00:00:00  "
      ]
     },
     "execution_count": 15,
     "metadata": {},
     "output_type": "execute_result"
    }
   ],
   "source": [
    "df= df[df['SALE PRICE'] != ' -  ']\n",
    "df['SALE PRICE'] = pd.to_numeric(df['SALE PRICE'])\n",
    "df = df[df['SALE PRICE'].notnull()]\n",
    "df.head()"
   ]
  },
  {
   "cell_type": "code",
   "execution_count": 16,
   "metadata": {},
   "outputs": [],
   "source": [
    "df['SALE DATE'] = pd.to_datetime(df['SALE DATE'])\n",
    "df['Month'] = df['SALE DATE'].dt.month"
   ]
  },
  {
   "cell_type": "code",
   "execution_count": 17,
   "metadata": {},
   "outputs": [],
   "source": [
    "m = df.groupby(['Month'])\n",
    "x = m['SALE PRICE'].sum()"
   ]
  },
  {
   "cell_type": "code",
   "execution_count": 18,
   "metadata": {},
   "outputs": [
    {
     "data": {
      "image/png": "[encoded data removed]",
      "text/plain": [
       "<Figure size 504x360 with 1 Axes>"
      ]
     },
     "metadata": {
      "needs_background": "light"
     },
     "output_type": "display_data"
    }
   ],
   "source": [
    "from matplotlib.pyplot import figure\n",
    "plt.figure(figsize=(7, 5))\n",
    "\n",
    "months = range(1,13)\n",
    "\n",
    "plt.plot(months,x, color='red', marker='o', linestyle='dashed', linewidth=2, markersize=7)\n",
    "plt.xticks(months)\n",
    "plt.grid(True)\n",
    "\n",
    "plt.xlabel(\"Months\")\n",
    "plt.ylabel(\"Total Sales(USD)\")\n",
    "plt.title(\"Total Sales by Month in NYC\")\n",
    "\n",
    "plt.show()"
   ]
  },
  {
   "cell_type": "markdown",
   "metadata": {},
   "source": [
    "# What are the top five building classes?"
   ]
  },
  {
   "cell_type": "code",
   "execution_count": 19,
   "metadata": {
    "scrolled": true
   },
   "outputs": [
    {
     "data": {
      "text/plain": [
       "array(['07 RENTALS - WALKUP APARTMENTS             ',\n",
       "       '08 RENTALS - ELEVATOR APARTMENTS           ',\n",
       "       '09 COOPS - WALKUP APARTMENTS               ',\n",
       "       '10 COOPS - ELEVATOR APARTMENTS             ',\n",
       "       '11A CONDO-RENTALS                           ',\n",
       "       '12 CONDOS - WALKUP APARTMENTS              ',\n",
       "       '13 CONDOS - ELEVATOR APARTMENTS            ',\n",
       "       '14 RENTALS - 4-10 UNIT                     ',\n",
       "       '15 CONDOS - 2-10 UNIT RESIDENTIAL          ',\n",
       "       '16 CONDOS - 2-10 UNIT WITH COMMERCIAL UNIT ',\n",
       "       '17 CONDO COOPS                             ',\n",
       "       '22 STORE BUILDINGS                         ',\n",
       "       '46 CONDO STORE BUILDINGS                   ',\n",
       "       '01 ONE FAMILY DWELLINGS                    ',\n",
       "       '02 TWO FAMILY DWELLINGS                    ',\n",
       "       '03 THREE FAMILY DWELLINGS                  ',\n",
       "       '04 TAX CLASS 1 CONDOS                      ',\n",
       "       '21 OFFICE BUILDINGS                        ',\n",
       "       '23 LOFT BUILDINGS                          ',\n",
       "       '25 LUXURY HOTELS                           ',\n",
       "       '26 OTHER HOTELS                            ',\n",
       "       '29 COMMERCIAL GARAGES                      ',\n",
       "       '37 RELIGIOUS FACILITIES                    ',\n",
       "       '38 ASYLUMS AND HOMES                       ',\n",
       "       '43 CONDO OFFICE BUILDINGS                  ',\n",
       "       '44 CONDO PARKING                           ',\n",
       "       '28 COMMERCIAL CONDOS                       ',\n",
       "       '47 CONDO NON-BUSINESS STORAGE              ',\n",
       "       '31 COMMERCIAL VACANT LAND                  ',\n",
       "       '41 TAX CLASS 4 - OTHER                     ',\n",
       "       '30 WAREHOUSES                              ',\n",
       "       '34 THEATRES                                ',\n",
       "       '27 FACTORIES                               ',\n",
       "       '36 OUTDOOR RECREATIONAL FACILITIES         ',\n",
       "       '40 SELECTED GOVERNMENTAL FACILITIES        ',\n",
       "       '42 CONDO CULTURAL/MEDICAL/EDUCATIONAL/ETC  ',\n",
       "       '32 HOSPITAL AND HEALTH FACILITIES          ',\n",
       "       '45 CONDO HOTELS                            ',\n",
       "       '49 CONDO WAREHOUSES/FACTORY/INDUS          ',\n",
       "       '33 EDUCATIONAL FACILITIES                  ',\n",
       "       '05 TAX CLASS 1 VACANT LAND                 ',\n",
       "       '06 TAX CLASS 1 - OTHER                     ',\n",
       "       '35 INDOOR PUBLIC AND CULTURAL FACILITIES   ',\n",
       "       '18 TAX CLASS 3 - UNTILITY PROPERTIES       ',\n",
       "       '48 CONDO TERRACES/GARDENS/CABANAS          ',\n",
       "       '11 SPECIAL CONDO BILLING LOTS              ',\n",
       "       '39 TRANSPORTATION FACILITIES               '], dtype=object)"
      ]
     },
     "execution_count": 19,
     "metadata": {},
     "output_type": "execute_result"
    }
   ],
   "source": [
    "df['BUILDING CLASS CATEGORY'].unique()"
   ]
  },
  {
   "cell_type": "code",
   "execution_count": 20,
   "metadata": {},
   "outputs": [
    {
     "data": {
      "text/html": [
       "<div>\n",
       "<style scoped>\n",
       "    .dataframe tbody tr th:only-of-type {\n",
       "        vertical-align: middle;\n",
       "    }\n",
       "\n",
       "    .dataframe tbody tr th {\n",
       "        vertical-align: top;\n",
       "    }\n",
       "\n",
       "    .dataframe thead th {\n",
       "        text-align: right;\n",
       "    }\n",
       "</style>\n",
       "<table border=\"1\" class=\"dataframe\">\n",
       "  <thead>\n",
       "    <tr style=\"text-align: right;\">\n",
       "      <th></th>\n",
       "      <th>BOROUGH</th>\n",
       "      <th>NEIGHBORHOOD</th>\n",
       "      <th>TAX CLASS AT PRESENT</th>\n",
       "      <th>BUILDING CLASS AT PRESENT</th>\n",
       "      <th>ADDRESS</th>\n",
       "      <th>RESIDENTIAL UNITS</th>\n",
       "      <th>COMMERCIAL UNITS</th>\n",
       "      <th>TOTAL UNITS</th>\n",
       "      <th>YEAR BUILT</th>\n",
       "      <th>TAX CLASS AT TIME OF SALE</th>\n",
       "      <th>BUILDING CLASS AT TIME OF SALE</th>\n",
       "      <th>SALE PRICE</th>\n",
       "      <th>SALE DATE</th>\n",
       "      <th>Month</th>\n",
       "      <th>BUILDING CLASS</th>\n",
       "    </tr>\n",
       "  </thead>\n",
       "  <tbody>\n",
       "    <tr>\n",
       "      <th>0</th>\n",
       "      <td>Manhattan</td>\n",
       "      <td>ALPHABET CITY</td>\n",
       "      <td>2A</td>\n",
       "      <td>C2</td>\n",
       "      <td>153 AVENUE B</td>\n",
       "      <td>5</td>\n",
       "      <td>0</td>\n",
       "      <td>5</td>\n",
       "      <td>1900</td>\n",
       "      <td>2</td>\n",
       "      <td>C2</td>\n",
       "      <td>6625000</td>\n",
       "      <td>2017-07-19</td>\n",
       "      <td>7</td>\n",
       "      <td>RENTALS - WALKUP APARTMENTS</td>\n",
       "    </tr>\n",
       "    <tr>\n",
       "      <th>3</th>\n",
       "      <td>Manhattan</td>\n",
       "      <td>ALPHABET CITY</td>\n",
       "      <td>2B</td>\n",
       "      <td>C4</td>\n",
       "      <td>154 EAST 7TH STREET</td>\n",
       "      <td>10</td>\n",
       "      <td>0</td>\n",
       "      <td>10</td>\n",
       "      <td>1913</td>\n",
       "      <td>2</td>\n",
       "      <td>C4</td>\n",
       "      <td>3936272</td>\n",
       "      <td>2016-09-23</td>\n",
       "      <td>9</td>\n",
       "      <td>RENTALS - WALKUP APARTMENTS</td>\n",
       "    </tr>\n",
       "    <tr>\n",
       "      <th>4</th>\n",
       "      <td>Manhattan</td>\n",
       "      <td>ALPHABET CITY</td>\n",
       "      <td>2A</td>\n",
       "      <td>C2</td>\n",
       "      <td>301 EAST 10TH   STREET</td>\n",
       "      <td>6</td>\n",
       "      <td>0</td>\n",
       "      <td>6</td>\n",
       "      <td>1900</td>\n",
       "      <td>2</td>\n",
       "      <td>C2</td>\n",
       "      <td>8000000</td>\n",
       "      <td>2016-11-17</td>\n",
       "      <td>11</td>\n",
       "      <td>RENTALS - WALKUP APARTMENTS</td>\n",
       "    </tr>\n",
       "    <tr>\n",
       "      <th>6</th>\n",
       "      <td>Manhattan</td>\n",
       "      <td>ALPHABET CITY</td>\n",
       "      <td>2B</td>\n",
       "      <td>C4</td>\n",
       "      <td>210 AVENUE B</td>\n",
       "      <td>8</td>\n",
       "      <td>0</td>\n",
       "      <td>8</td>\n",
       "      <td>1920</td>\n",
       "      <td>2</td>\n",
       "      <td>C4</td>\n",
       "      <td>3192840</td>\n",
       "      <td>2016-09-23</td>\n",
       "      <td>9</td>\n",
       "      <td>RENTALS - WALKUP APARTMENTS</td>\n",
       "    </tr>\n",
       "    <tr>\n",
       "      <th>9</th>\n",
       "      <td>Manhattan</td>\n",
       "      <td>ALPHABET CITY</td>\n",
       "      <td>2</td>\n",
       "      <td>D9</td>\n",
       "      <td>629 EAST 5TH STREET</td>\n",
       "      <td>24</td>\n",
       "      <td>0</td>\n",
       "      <td>24</td>\n",
       "      <td>1920</td>\n",
       "      <td>2</td>\n",
       "      <td>D9</td>\n",
       "      <td>16232000</td>\n",
       "      <td>2016-11-07</td>\n",
       "      <td>11</td>\n",
       "      <td>RENTALS - ELEVATOR APARTMENTS</td>\n",
       "    </tr>\n",
       "  </tbody>\n",
       "</table>\n",
       "</div>"
      ],
      "text/plain": [
       "     BOROUGH   NEIGHBORHOOD TAX CLASS AT PRESENT BUILDING CLASS AT PRESENT  \\\n",
       "0  Manhattan  ALPHABET CITY                   2A                        C2   \n",
       "3  Manhattan  ALPHABET CITY                   2B                        C4   \n",
       "4  Manhattan  ALPHABET CITY                   2A                        C2   \n",
       "6  Manhattan  ALPHABET CITY                   2B                        C4   \n",
       "9  Manhattan  ALPHABET CITY                    2                        D9   \n",
       "\n",
       "                  ADDRESS  RESIDENTIAL UNITS  COMMERCIAL UNITS  TOTAL UNITS  \\\n",
       "0            153 AVENUE B                  5                 0            5   \n",
       "3     154 EAST 7TH STREET                 10                 0           10   \n",
       "4  301 EAST 10TH   STREET                  6                 0            6   \n",
       "6            210 AVENUE B                  8                 0            8   \n",
       "9     629 EAST 5TH STREET                 24                 0           24   \n",
       "\n",
       "   YEAR BUILT  TAX CLASS AT TIME OF SALE BUILDING CLASS AT TIME OF SALE  \\\n",
       "0        1900                          2                             C2   \n",
       "3        1913                          2                             C4   \n",
       "4        1900                          2                             C2   \n",
       "6        1920                          2                             C4   \n",
       "9        1920                          2                             D9   \n",
       "\n",
       "   SALE PRICE  SALE DATE  Month                            BUILDING CLASS  \n",
       "0     6625000 2017-07-19      7  RENTALS - WALKUP APARTMENTS               \n",
       "3     3936272 2016-09-23      9  RENTALS - WALKUP APARTMENTS               \n",
       "4     8000000 2016-11-17     11  RENTALS - WALKUP APARTMENTS               \n",
       "6     3192840 2016-09-23      9  RENTALS - WALKUP APARTMENTS               \n",
       "9    16232000 2016-11-07     11  RENTALS - ELEVATOR APARTMENTS             "
      ]
     },
     "execution_count": 20,
     "metadata": {},
     "output_type": "execute_result"
    }
   ],
   "source": [
    "df['BUILDING CLASS'] = df['BUILDING CLASS CATEGORY'].str[3:]\n",
    "del df['BUILDING CLASS CATEGORY']\n",
    "df.head()"
   ]
  },
  {
   "cell_type": "code",
   "execution_count": 21,
   "metadata": {},
   "outputs": [],
   "source": [
    "df['BUILDING CLASS'] = df['BUILDING CLASS'].str.lstrip()"
   ]
  },
  {
   "cell_type": "code",
   "execution_count": 22,
   "metadata": {},
   "outputs": [
    {
     "data": {
      "text/plain": [
       "BUILDING CLASS\n",
       "RENTALS - WALKUP APARTMENTS                 29584\n",
       "TWO FAMILY DWELLINGS                        26709\n",
       "RENTALS - ELEVATOR APARTMENTS               23133\n",
       "ONE FAMILY DWELLINGS                        14741\n",
       "THREE FAMILY DWELLINGS                      10914\n",
       "Name: TOTAL UNITS, dtype: int64"
      ]
     },
     "execution_count": 22,
     "metadata": {},
     "output_type": "execute_result"
    }
   ],
   "source": [
    "build_group = df.groupby('BUILDING CLASS').sum()\n",
    "build_ordered = build_group['TOTAL UNITS'].sort_values(ascending=False).head(5)\n",
    "build_ordered "
   ]
  },
  {
   "cell_type": "code",
   "execution_count": 23,
   "metadata": {},
   "outputs": [
    {
     "data": {
      "image/png": "[encoded data removed]",
      "text/plain": [
       "<Figure size 432x288 with 1 Axes>"
      ]
     },
     "metadata": {},
     "output_type": "display_data"
    }
   ],
   "source": [
    "plt.style.use('fivethirtyeight')\n",
    "plt.figure(figsize=(6,4))\n",
    "\n",
    "build_ordered.sort_values(ascending=True).plot(kind = 'barh',width = 0.8)\n",
    "\n",
    "plt.title('Top 5 types of Building Classes in NYC')\n",
    "plt.show()"
   ]
  },
  {
   "cell_type": "markdown",
   "metadata": {},
   "source": [
    "# What is the average age of the buildings?"
   ]
  },
  {
   "cell_type": "code",
   "execution_count": 24,
   "metadata": {},
   "outputs": [
    {
     "data": {
      "text/plain": [
       "0       5238\n",
       "1920    4953\n",
       "1930    4198\n",
       "1925    3622\n",
       "1910    3055\n",
       "        ... \n",
       "1883       1\n",
       "1829       1\n",
       "1891       1\n",
       "1855       1\n",
       "1111       1\n",
       "Name: YEAR BUILT, Length: 155, dtype: int64"
      ]
     },
     "execution_count": 24,
     "metadata": {},
     "output_type": "execute_result"
    }
   ],
   "source": [
    "df['YEAR BUILT'].value_counts()"
   ]
  },
  {
   "cell_type": "code",
   "execution_count": 25,
   "metadata": {},
   "outputs": [
    {
     "data": {
      "image/png": "[encoded data removed]",
      "text/plain": [
       "<Figure size 576x360 with 1 Axes>"
      ]
     },
     "metadata": {},
     "output_type": "display_data"
    }
   ],
   "source": [
    "fig, ax = plt.subplots(figsize=(8,5)) \n",
    "sns.boxplot(x = 'YEAR BUILT', data=df, ax=ax)\n",
    "plt.show()"
   ]
  },
  {
   "cell_type": "code",
   "execution_count": 26,
   "metadata": {},
   "outputs": [
    {
     "data": {
      "text/plain": [
       "count    69216.000000\n",
       "mean      1801.778216\n",
       "std        516.620303\n",
       "min          0.000000\n",
       "25%       1920.000000\n",
       "50%       1937.000000\n",
       "75%       1965.000000\n",
       "max       2017.000000\n",
       "Name: YEAR BUILT, dtype: float64"
      ]
     },
     "execution_count": 26,
     "metadata": {},
     "output_type": "execute_result"
    }
   ],
   "source": [
    "df['YEAR BUILT'].describe()"
   ]
  },
  {
   "cell_type": "code",
   "execution_count": 27,
   "metadata": {},
   "outputs": [
    {
     "data": {
      "text/plain": [
       "<matplotlib.axes._subplots.AxesSubplot at 0x1d9e0e5e820>"
      ]
     },
     "execution_count": 27,
     "metadata": {},
     "output_type": "execute_result"
    },
    {
     "data": {
      "image/png": "[encoded data removed]",
      "text/plain": [
       "<Figure size 576x360 with 1 Axes>"
      ]
     },
     "metadata": {},
     "output_type": "display_data"
    }
   ],
   "source": [
    "fig, ax = plt.subplots(figsize=(8,5)) \n",
    "sns.boxplot(x = 'YEAR BUILT', data=df[df['YEAR BUILT'] < 1750], ax=ax)"
   ]
  },
  {
   "cell_type": "code",
   "execution_count": 28,
   "metadata": {},
   "outputs": [],
   "source": [
    "df = df[df['YEAR BUILT'] >= 1750]"
   ]
  },
  {
   "cell_type": "code",
   "execution_count": 29,
   "metadata": {},
   "outputs": [
    {
     "data": {
      "text/plain": [
       "count    63977.000000\n",
       "mean      1949.306313\n",
       "std         34.391373\n",
       "min       1800.000000\n",
       "25%       1925.000000\n",
       "50%       1941.000000\n",
       "75%       1970.000000\n",
       "max       2017.000000\n",
       "Name: YEAR BUILT, dtype: float64"
      ]
     },
     "execution_count": 29,
     "metadata": {},
     "output_type": "execute_result"
    }
   ],
   "source": [
    "df['YEAR BUILT'].describe()"
   ]
  },
  {
   "cell_type": "code",
   "execution_count": 30,
   "metadata": {},
   "outputs": [
    {
     "data": {
      "image/png": "[encoded data removed]",
      "text/plain": [
       "<Figure size 576x360 with 1 Axes>"
      ]
     },
     "metadata": {},
     "output_type": "display_data"
    }
   ],
   "source": [
    "fig, ax = plt.subplots(figsize=(8,5)) \n",
    "sns.boxplot(x = 'YEAR BUILT', data=df, ax=ax)\n",
    "plt.show()"
   ]
  },
  {
   "cell_type": "code",
   "execution_count": 32,
   "metadata": {},
   "outputs": [
    {
     "name": "stderr",
     "output_type": "stream",
     "text": [
      "<ipython-input-32-78f1b1eb964c>:1: SettingWithCopyWarning: \n",
      "A value is trying to be set on a copy of a slice from a DataFrame.\n",
      "Try using .loc[row_indexer,col_indexer] = value instead\n",
      "\n",
      "See the caveats in the documentation: https://pandas.pydata.org/pandas-docs/stable/user_guide/indexing.html#returning-a-view-versus-a-copy\n",
      "  df['Building Age'] = 2017 - df['YEAR BUILT']\n"
     ]
    }
   ],
   "source": [
    "df['Building Age'] = 2017 - df['YEAR BUILT']"
   ]
  },
  {
   "cell_type": "code",
   "execution_count": 35,
   "metadata": {},
   "outputs": [
    {
     "data": {
      "text/plain": [
       "67.69368679369148"
      ]
     },
     "execution_count": 35,
     "metadata": {},
     "output_type": "execute_result"
    }
   ],
   "source": [
    "df['Building Age'].mean()"
   ]
  },
  {
   "cell_type": "code",
   "execution_count": null,
   "metadata": {},
   "outputs": [],
   "source": []
  }
 ],
 "metadata": {
  "kernelspec": {
   "display_name": "Python 3",
   "language": "python",
   "name": "python3"
  },
  "language_info": {
   "codemirror_mode": {
    "name": "ipython",
    "version": 3
   },
   "file_extension": ".py",
   "mimetype": "text/x-python",
   "name": "python",
   "nbconvert_exporter": "python",
   "pygments_lexer": "ipython3",
   "version": "3.8.3"
  }
 },
 "nbformat": 4,
 "nbformat_minor": 4
}
